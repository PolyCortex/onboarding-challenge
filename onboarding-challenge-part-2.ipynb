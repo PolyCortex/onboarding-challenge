{
 "cells": [
  {
   "cell_type": "markdown",
   "metadata": {},
   "source": [
    "# Onboarding Challenge Part 2 🎮\n",
    "\n",
    "In this notebook, we will use the [shivamshekhar's Chrome-T-Rex-Rush](https://github.com/shivamshekhar/Chrome-T-Rex-Rush). This is a python reimplementation of the popular Chrome's T-Rex runner game. Our goal is to hack it to make the T-Rex jump when our eye blinks!\n",
    "\n",
    "In order to achieve this, we will have to acquire our signal in real time, detect when an eye blink occurs and then make the dinosaur jump."
   ]
  },
  {
   "cell_type": "code",
   "execution_count": null,
   "metadata": {},
   "outputs": [],
   "source": [
    "import os\n",
    "from utils.utils import acquire_eeg\n",
    "from muselsl import stream, list_muses\n",
    "from multiprocessing import Process\n",
    "from threading import Thread\n",
    "from pynput.keyboard import Key, Controller"
   ]
  },
  {
   "cell_type": "markdown",
   "metadata": {},
   "source": [
    "## Acquire the signal\n",
    "\n",
    "The first step will be to acquire our data in real time. To achieve this, we will use the [Alexandre Barachant's muselsl library](https://github.com/alexandrebarachant/muse-lsl) and use the `acquire_eeg` function of our own (see the utils package of this repo). We will only need to write a callback function that receives all the samples via LSL."
   ]
  },
  {
   "cell_type": "code",
   "execution_count": null,
   "metadata": {},
   "outputs": [],
   "source": [
    "muses = list_muses()\n",
    "if len(muses):\n",
    "    stream_process = Process(target=stream, args=(muses[0]['address'],))\n",
    "    stream_process.start()"
   ]
  },
  {
   "cell_type": "markdown",
   "metadata": {},
   "source": [
    "## Analyze the signal\n",
    "In the first notebook, we tested three way of setting an amplitude threshold. They all gave more or less the same results. This is why we are going to implement the simplest method of them all. We will use the same threshold as with the first method used in the first part. To test this real-time implementation, each time a blink is detected, we will print `Blink!`.\n",
    "\n",
    "If it always print `Blink!`, test a greater threshold. If it never prints it, use a smaller value. You can also try to use another channel."
   ]
  },
  {
   "cell_type": "code",
   "execution_count": null,
   "metadata": {},
   "outputs": [],
   "source": [
    "# Adjust the threshold according to your own previous recordings\n",
    "THRESHOLD = 100\n",
    "ANALYZED_CHANNEL = 'TP10'\n",
    "ACQUISITION_TIME = 20\n",
    "SAMPLES_PER_CALLBACK = 1"
   ]
  },
  {
   "cell_type": "code",
   "execution_count": null,
   "metadata": {},
   "outputs": [],
   "source": [
    "def eeg_callback(timestamps, eeg_data):\n",
    "    if abs(eeg_data[ANALYZED_CHANNEL][0]) > THRESHOLD:\n",
    "        print(\"Blink!\")\n",
    "    \n",
    "acquire_eeg(ACQUISITION_TIME, callback=eeg_callback, eeg_chunck=SAMPLES_PER_CALLBACK)"
   ]
  },
  {
   "cell_type": "markdown",
   "metadata": {},
   "source": [
    "## Connect the signal to the game input\n",
    "We are now ready to play our game. To do so, we simply need to redefine our `eeg_callback` function. Instead of printing a blink message, we will simulate a press on the spacebar when the value of our signal is greater than our threshold. We will then start the game in the main process (the game cannot be start in a subprocess without crashing).\n",
    "\n",
    "**Be careful** to stay on the game window since we are simulating space key presses."
   ]
  },
  {
   "cell_type": "code",
   "execution_count": null,
   "metadata": {},
   "outputs": [],
   "source": [
    "ANALYZED_CHANNEL = 'TP10'\n",
    "ACQUISITION_TIME = 120\n",
    "SAMPLES_PER_CALLBACK = 1\n",
    "\n",
    "keyboard = Controller()\n",
    "\n",
    "def eeg_callback(timestamps, eeg_data):\n",
    "    if abs(eeg_data[ANALYZED_CHANNEL][0]) > THRESHOLD:\n",
    "        keyboard.press(Key.space)\n",
    "    else:\n",
    "        keyboard.release(Key.space)\n",
    "\n",
    "blink_eye_keyboard_thread = Thread(target=acquire_eeg, args=(ACQUISITION_TIME,), kwargs={'callback': eeg_callback, 'eeg_chunck': SAMPLES_PER_CALLBACK})\n",
    "blink_eye_keyboard_thread.start()\n",
    "\n",
    "os.chdir('./Chrome-T-Rex-Rush/')  # Workaround since it is not possible to import a folder with dash character.\n",
    "import main"
   ]
  },
  {
   "cell_type": "markdown",
   "metadata": {},
   "source": [
    "Now you just need to share your threshold value and your highscore!"
   ]
  }
 ],
 "metadata": {
  "kernelspec": {
   "display_name": "Python 3",
   "language": "python",
   "name": "python3"
  },
  "language_info": {
   "codemirror_mode": {
    "name": "ipython",
    "version": 3
   },
   "file_extension": ".py",
   "mimetype": "text/x-python",
   "name": "python",
   "nbconvert_exporter": "python",
   "pygments_lexer": "ipython3",
   "version": "3.6.8"
  }
 },
 "nbformat": 4,
 "nbformat_minor": 2
}
